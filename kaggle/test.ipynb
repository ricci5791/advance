{
 "cells": [
  {
   "cell_type": "code",
   "execution_count": 2,
   "metadata": {
    "collapsed": true,
    "pycharm": {
     "name": "#%%\n"
    }
   },
   "outputs": [],
   "source": [
    "import numpy as np\n",
    "import pandas as pd"
   ]
  },
  {
   "cell_type": "code",
   "execution_count": 3,
   "outputs": [],
   "source": [
    "def year_apply(year: int) -> int:\n",
    "    if 0 <= year < 16:\n",
    "        return year + 2000\n",
    "    elif 52 <= year <= 99:\n",
    "        return year + 1900\n",
    "    else:\n",
    "        return year"
   ],
   "metadata": {
    "collapsed": false,
    "pycharm": {
     "name": "#%%\n"
    }
   }
  },
  {
   "cell_type": "code",
   "execution_count": null,
   "outputs": [],
   "source": [
    "def data_pipe(dvf_csv):\n",
    "    train_df = pd.read_csv(dvf_csv)\n",
    "    train_df.fillna('undefined', inplace=True)\n",
    "    train_df['registration_year'] = train_df['registration_year'].apply(lambda x: year_apply(x))\n",
    "    from sklearn.preprocessing import LabelEncoder\n",
    "\n",
    "    le = LabelEncoder()\n",
    "    for column in ['model', 'type', 'gearbox', 'fuel', 'brand']:\n",
    "        train_df[column] = le.fit_transform(train_df[column])\n",
    "train_df"
   ],
   "metadata": {
    "collapsed": false,
    "pycharm": {
     "name": "#%%\n"
    }
   }
  },
  {
   "cell_type": "code",
   "execution_count": 60,
   "outputs": [],
   "source": [
    "train_df = pd.read_csv('train.csv')\n",
    "train_df.fillna('undefined', inplace=True)\n",
    "train_df['registration_year'] = train_df['registration_year'].apply(lambda x: year_apply(x))"
   ],
   "metadata": {
    "collapsed": false,
    "pycharm": {
     "name": "#%%\n"
    }
   }
  },
  {
   "cell_type": "code",
   "execution_count": 61,
   "outputs": [
    {
     "data": {
      "text/plain": "       Unnamed: 0 engine_capacity  type  registration_year  gearbox  power  \\\n0           48298             2.0     0               2006        0    140   \n1           81047       undefined     7               2016        2      0   \n2           92754             2.2     3               2010        1    175   \n3           46007       undefined     7               2000        0    265   \n4           76981       undefined     1               2003        1    109   \n...           ...             ...   ...                ...      ...    ...   \n49995       50429             1.4     3               2006        1     75   \n49996       64425             1.3     5               2004        1     60   \n49997       90761       undefined     3               1996        1    150   \n49998       39709       undefined     3               2007        1    122   \n49999       25524       undefined     7               1996        1      0   \n\n       model  mileage  fuel  brand     damage  zipcode insurance_price  price  \n0         58   150000     2      5        0.0    49191           380.0   4267  \n1        235   150000     5     20  undefined    45896       undefined   2457  \n2        154   125000     1     10        0.0    59229           930.0  10374  \n3         40   150000     2     10        0.0    39365           680.0   7098  \n4          8   150000     2     25        0.0    55271       undefined   2365  \n...      ...      ...   ...    ...        ...      ...             ...    ...  \n49995    117    90000     2     38        0.0    35745           500.0   4686  \n49996    103   150000     2     10        0.0    60386       undefined    864  \n49997     15   150000     2      2        0.0    28309           130.0   2275  \n49998      6   100000     1      2        0.0    83623           500.0   8144  \n49999    117   150000     5     38        0.0    26789           220.0   1592  \n\n[50000 rows x 14 columns]",
      "text/html": "<div>\n<style scoped>\n    .dataframe tbody tr th:only-of-type {\n        vertical-align: middle;\n    }\n\n    .dataframe tbody tr th {\n        vertical-align: top;\n    }\n\n    .dataframe thead th {\n        text-align: right;\n    }\n</style>\n<table border=\"1\" class=\"dataframe\">\n  <thead>\n    <tr style=\"text-align: right;\">\n      <th></th>\n      <th>Unnamed: 0</th>\n      <th>engine_capacity</th>\n      <th>type</th>\n      <th>registration_year</th>\n      <th>gearbox</th>\n      <th>power</th>\n      <th>model</th>\n      <th>mileage</th>\n      <th>fuel</th>\n      <th>brand</th>\n      <th>damage</th>\n      <th>zipcode</th>\n      <th>insurance_price</th>\n      <th>price</th>\n    </tr>\n  </thead>\n  <tbody>\n    <tr>\n      <th>0</th>\n      <td>48298</td>\n      <td>2.0</td>\n      <td>0</td>\n      <td>2006</td>\n      <td>0</td>\n      <td>140</td>\n      <td>58</td>\n      <td>150000</td>\n      <td>2</td>\n      <td>5</td>\n      <td>0.0</td>\n      <td>49191</td>\n      <td>380.0</td>\n      <td>4267</td>\n    </tr>\n    <tr>\n      <th>1</th>\n      <td>81047</td>\n      <td>undefined</td>\n      <td>7</td>\n      <td>2016</td>\n      <td>2</td>\n      <td>0</td>\n      <td>235</td>\n      <td>150000</td>\n      <td>5</td>\n      <td>20</td>\n      <td>undefined</td>\n      <td>45896</td>\n      <td>undefined</td>\n      <td>2457</td>\n    </tr>\n    <tr>\n      <th>2</th>\n      <td>92754</td>\n      <td>2.2</td>\n      <td>3</td>\n      <td>2010</td>\n      <td>1</td>\n      <td>175</td>\n      <td>154</td>\n      <td>125000</td>\n      <td>1</td>\n      <td>10</td>\n      <td>0.0</td>\n      <td>59229</td>\n      <td>930.0</td>\n      <td>10374</td>\n    </tr>\n    <tr>\n      <th>3</th>\n      <td>46007</td>\n      <td>undefined</td>\n      <td>7</td>\n      <td>2000</td>\n      <td>0</td>\n      <td>265</td>\n      <td>40</td>\n      <td>150000</td>\n      <td>2</td>\n      <td>10</td>\n      <td>0.0</td>\n      <td>39365</td>\n      <td>680.0</td>\n      <td>7098</td>\n    </tr>\n    <tr>\n      <th>4</th>\n      <td>76981</td>\n      <td>undefined</td>\n      <td>1</td>\n      <td>2003</td>\n      <td>1</td>\n      <td>109</td>\n      <td>8</td>\n      <td>150000</td>\n      <td>2</td>\n      <td>25</td>\n      <td>0.0</td>\n      <td>55271</td>\n      <td>undefined</td>\n      <td>2365</td>\n    </tr>\n    <tr>\n      <th>...</th>\n      <td>...</td>\n      <td>...</td>\n      <td>...</td>\n      <td>...</td>\n      <td>...</td>\n      <td>...</td>\n      <td>...</td>\n      <td>...</td>\n      <td>...</td>\n      <td>...</td>\n      <td>...</td>\n      <td>...</td>\n      <td>...</td>\n      <td>...</td>\n    </tr>\n    <tr>\n      <th>49995</th>\n      <td>50429</td>\n      <td>1.4</td>\n      <td>3</td>\n      <td>2006</td>\n      <td>1</td>\n      <td>75</td>\n      <td>117</td>\n      <td>90000</td>\n      <td>2</td>\n      <td>38</td>\n      <td>0.0</td>\n      <td>35745</td>\n      <td>500.0</td>\n      <td>4686</td>\n    </tr>\n    <tr>\n      <th>49996</th>\n      <td>64425</td>\n      <td>1.3</td>\n      <td>5</td>\n      <td>2004</td>\n      <td>1</td>\n      <td>60</td>\n      <td>103</td>\n      <td>150000</td>\n      <td>2</td>\n      <td>10</td>\n      <td>0.0</td>\n      <td>60386</td>\n      <td>undefined</td>\n      <td>864</td>\n    </tr>\n    <tr>\n      <th>49997</th>\n      <td>90761</td>\n      <td>undefined</td>\n      <td>3</td>\n      <td>1996</td>\n      <td>1</td>\n      <td>150</td>\n      <td>15</td>\n      <td>150000</td>\n      <td>2</td>\n      <td>2</td>\n      <td>0.0</td>\n      <td>28309</td>\n      <td>130.0</td>\n      <td>2275</td>\n    </tr>\n    <tr>\n      <th>49998</th>\n      <td>39709</td>\n      <td>undefined</td>\n      <td>3</td>\n      <td>2007</td>\n      <td>1</td>\n      <td>122</td>\n      <td>6</td>\n      <td>100000</td>\n      <td>1</td>\n      <td>2</td>\n      <td>0.0</td>\n      <td>83623</td>\n      <td>500.0</td>\n      <td>8144</td>\n    </tr>\n    <tr>\n      <th>49999</th>\n      <td>25524</td>\n      <td>undefined</td>\n      <td>7</td>\n      <td>1996</td>\n      <td>1</td>\n      <td>0</td>\n      <td>117</td>\n      <td>150000</td>\n      <td>5</td>\n      <td>38</td>\n      <td>0.0</td>\n      <td>26789</td>\n      <td>220.0</td>\n      <td>1592</td>\n    </tr>\n  </tbody>\n</table>\n<p>50000 rows × 14 columns</p>\n</div>"
     },
     "execution_count": 61,
     "metadata": {},
     "output_type": "execute_result"
    }
   ],
   "source": [
    "from sklearn.preprocessing import LabelEncoder\n",
    "\n",
    "le = LabelEncoder()\n",
    "for column in ['model', 'type', 'gearbox', 'fuel', 'brand']:\n",
    "    train_df[column] = le.fit_transform(train_df[column])\n",
    "train_df"
   ],
   "metadata": {
    "collapsed": false,
    "pycharm": {
     "name": "#%%\n"
    }
   }
  },
  {
   "cell_type": "code",
   "execution_count": 62,
   "outputs": [],
   "source": [
    "x_idx = train_df['Unnamed: 0']\n",
    "X = train_df.drop(['zipcode', 'price', 'Unnamed: 0'], axis=1)\n",
    "y = train_df['price']"
   ],
   "metadata": {
    "collapsed": false,
    "pycharm": {
     "name": "#%%\n"
    }
   }
  },
  {
   "cell_type": "code",
   "execution_count": 63,
   "outputs": [],
   "source": [
    "X.replace('undefined', -1, inplace=True)"
   ],
   "metadata": {
    "collapsed": false,
    "pycharm": {
     "name": "#%%\n"
    }
   }
  },
  {
   "cell_type": "code",
   "execution_count": 65,
   "outputs": [],
   "source": [
    "from sklearn.model_selection import train_test_split\n",
    "\n",
    "X_train, X_test, y_train, y_test = train_test_split(X, y,\n",
    "                                                    train_size=0.7,\n",
    "                                                    test_size = 0.3, random_state=100)"
   ],
   "metadata": {
    "collapsed": false,
    "pycharm": {
     "name": "#%%\n"
    }
   }
  },
  {
   "cell_type": "code",
   "execution_count": 66,
   "outputs": [],
   "source": [
    "def mean_absolute_percentage_error(y_true, y_pred):\n",
    "    y_true, y_pred = np.array(y_true), np.array(y_pred)\n",
    "    return np.mean(np.abs((y_true - y_pred) / y_true)) * 100"
   ],
   "metadata": {
    "collapsed": false,
    "pycharm": {
     "name": "#%%\n"
    }
   }
  },
  {
   "cell_type": "code",
   "execution_count": 73,
   "outputs": [
    {
     "data": {
      "text/plain": "BaggingRegressor(n_estimators=30, n_jobs=4, random_state=1)"
     },
     "execution_count": 73,
     "metadata": {},
     "output_type": "execute_result"
    }
   ],
   "source": [
    "from sklearn.ensemble import BaggingRegressor\n",
    "from sklearn.linear_model import RidgeClassifier\n",
    "\n",
    "lm = BaggingRegressor(n_estimators=30, n_jobs=4, random_state=1)\n",
    "lm.fit(X_train,y_train)"
   ],
   "metadata": {
    "collapsed": false,
    "pycharm": {
     "name": "#%%\n"
    }
   }
  },
  {
   "cell_type": "code",
   "execution_count": 74,
   "outputs": [],
   "source": [
    "y_pred_test=lm.predict(X_test)\n",
    "y_pred_train=lm.predict(X_train)"
   ],
   "metadata": {
    "collapsed": false,
    "pycharm": {
     "name": "#%%\n"
    }
   }
  },
  {
   "cell_type": "code",
   "execution_count": 75,
   "outputs": [
    {
     "data": {
      "text/plain": "32.10632318483748"
     },
     "execution_count": 75,
     "metadata": {},
     "output_type": "execute_result"
    }
   ],
   "source": [
    "mean_absolute_percentage_error(y_test, y_pred_test)"
   ],
   "metadata": {
    "collapsed": false,
    "pycharm": {
     "name": "#%%\n"
    }
   }
  },
  {
   "cell_type": "code",
   "execution_count": null,
   "outputs": [],
   "source": [],
   "metadata": {
    "collapsed": false,
    "pycharm": {
     "name": "#%%\n"
    }
   }
  }
 ],
 "metadata": {
  "kernelspec": {
   "display_name": "Python 3",
   "language": "python",
   "name": "python3"
  },
  "language_info": {
   "codemirror_mode": {
    "name": "ipython",
    "version": 2
   },
   "file_extension": ".py",
   "mimetype": "text/x-python",
   "name": "python",
   "nbconvert_exporter": "python",
   "pygments_lexer": "ipython2",
   "version": "2.7.6"
  }
 },
 "nbformat": 4,
 "nbformat_minor": 0
}